{
 "cells": [
  {
   "cell_type": "markdown",
   "metadata": {},
   "source": [
    "# Random Numbers\n",
    "***"
   ]
  },
  {
   "cell_type": "markdown",
   "metadata": {},
   "source": [
    "## Prerequisits\n",
    "***\n",
    "https://numpy.org/doc/stable/reference/random/index.html"
   ]
  },
  {
   "cell_type": "code",
   "execution_count": 1,
   "metadata": {},
   "outputs": [],
   "source": [
    "# Numerical arrays and random numbers.\n",
    "import numpy as np"
   ]
  },
  {
   "cell_type": "markdown",
   "metadata": {},
   "source": [
    "## Generate random integers\n",
    "***"
   ]
  },
  {
   "cell_type": "code",
   "execution_count": 3,
   "metadata": {},
   "outputs": [],
   "source": [
    "rng = np.random.default_rng()"
   ]
  },
  {
   "cell_type": "code",
   "execution_count": 10,
   "metadata": {},
   "outputs": [
    {
     "data": {
      "text/plain": [
       "0.4834859969884785"
      ]
     },
     "execution_count": 10,
     "metadata": {},
     "output_type": "execute_result"
    }
   ],
   "source": [
    "# Generate one random float uniformly distributed over the range [0, 1)\n",
    "rng.random()  "
   ]
  },
  {
   "cell_type": "code",
   "execution_count": 12,
   "metadata": {},
   "outputs": [
    {
     "data": {
      "text/plain": [
       "array([ 0.46015847, -0.23907148, -0.20520729,  0.79805144, -1.65199545,\n",
       "       -0.80571719,  0.16556516,  0.71633   , -0.19383615, -0.90396448])"
      ]
     },
     "execution_count": 12,
     "metadata": {},
     "output_type": "execute_result"
    }
   ],
   "source": [
    "# Generate an array of 10 numbers according to a unit Gaussian distribution.\n",
    "rng.standard_normal(10)  "
   ]
  },
  {
   "cell_type": "code",
   "execution_count": 20,
   "metadata": {},
   "outputs": [
    {
     "data": {
      "text/plain": [
       "array([0, 9, 7, 6, 9, 4, 0, 3, 5, 9, 5, 5, 4, 1, 1, 6, 6, 5, 4, 6, 9, 4,\n",
       "       5, 4, 5, 8, 8, 2, 4, 6, 3, 5, 0, 3, 9, 6, 0, 7, 8, 8, 0, 9, 0, 0,\n",
       "       9, 0, 9, 9, 1, 0, 6, 2, 2, 3, 7, 1, 1, 3, 3, 3, 4, 0, 4, 9, 2, 8,\n",
       "       7, 5, 6, 0, 7, 0, 1, 3, 7, 3, 2, 3, 1, 2, 4, 5, 4, 4, 0, 1, 7, 0,\n",
       "       2, 8, 2, 6, 9, 9, 1, 4, 1, 6, 4, 1])"
      ]
     },
     "execution_count": 20,
     "metadata": {},
     "output_type": "execute_result"
    }
   ],
   "source": [
    "# Generate an array of 5 integers uniformly over the range [0, 10).\n",
    "rng.integers(low=0, high=10, size=100) "
   ]
  },
  {
   "cell_type": "markdown",
   "metadata": {},
   "source": [
    "***\n",
    "\n",
    "#### End"
   ]
  }
 ],
 "metadata": {
  "kernelspec": {
   "display_name": "base",
   "language": "python",
   "name": "python3"
  },
  "language_info": {
   "codemirror_mode": {
    "name": "ipython",
    "version": 3
   },
   "file_extension": ".py",
   "mimetype": "text/x-python",
   "name": "python",
   "nbconvert_exporter": "python",
   "pygments_lexer": "ipython3",
   "version": "3.11.5"
  }
 },
 "nbformat": 4,
 "nbformat_minor": 2
}
